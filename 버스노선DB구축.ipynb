{
 "cells": [
  {
   "cell_type": "markdown",
   "metadata": {},
   "source": [
    "### 1. API로 데이터 수집"
   ]
  },
  {
   "cell_type": "code",
   "execution_count": 3,
   "metadata": {},
   "outputs": [],
   "source": [
    "import requests\n",
    "import xmltodict\n",
    "import json\n",
    "import numpy as np\n",
    "import pandas as pd"
   ]
  },
  {
   "cell_type": "code",
   "execution_count": 4,
   "metadata": {},
   "outputs": [],
   "source": [
    "url = 'http://openapi.gbis.go.kr/ws/rest/baseinfoservice'\n",
    "\n",
    "queryParams = '?' + 'serviceKey' + '=' + 'uNY%2BOVwL3weHrcP9MP3EjeBGgmlirGAMsaVwv%2FDRvG4i6h7StXaoWWHqTTS5g0T%2FFIf7HyW2GZCwL2%2F6lQvsvA%3D%3D'\n",
    "# queryParams += '&' + 'routeNo' + '=' + '5'\n",
    "response = requests.get(url + queryParams)\n",
    "\n",
    "if(response.status_code == 200):\n",
    "    responseData = response.text #요청받은 XML 데이터 저장\n",
    "    rD = xmltodict.parse(responseData) #XML -> dict형식으로 변환\n",
    "    rDJ = json.dumps(rD) #dict -> json\n",
    "    rDD = json.loads(rDJ) #json-=> dict\n",
    "else:\n",
    "    print(\"Error Code:\" , rescode)\n"
   ]
  },
  {
   "cell_type": "code",
   "execution_count": 5,
   "metadata": {},
   "outputs": [
    {
     "data": {
      "text/plain": [
       "{'areaDownloadUrl': 'http://openapi.gbis.go.kr/ws/download?area20200223.txt',\n",
       " 'areaVersion': '20200223',\n",
       " 'routeDownloadUrl': 'http://openapi.gbis.go.kr/ws/download?route20200223.txt',\n",
       " 'routeLineDownloadUrl': 'http://openapi.gbis.go.kr/ws/download?routeline20200223.txt',\n",
       " 'routeLineVersion': '20200223',\n",
       " 'routeStationDownloadUrl': 'http://openapi.gbis.go.kr/ws/download?routestation20200223.txt',\n",
       " 'routeStationVersion': '20200223',\n",
       " 'routeVersion': '20200223',\n",
       " 'stationDownloadUrl': 'http://openapi.gbis.go.kr/ws/download?station20200223.txt',\n",
       " 'stationVersion': '20200223'}"
      ]
     },
     "execution_count": 5,
     "metadata": {},
     "output_type": "execute_result"
    }
   ],
   "source": [
    "rDD['response']['msgBody']['baseInfoItem']"
   ]
  },
  {
   "cell_type": "markdown",
   "metadata": {},
   "source": [
    "### 2. 필요한 정보만 데이터 프레임으로 만들기"
   ]
  },
  {
   "cell_type": "code",
   "execution_count": 6,
   "metadata": {
    "scrolled": true
   },
   "outputs": [
    {
     "data": {
      "text/html": [
       "<div>\n",
       "<style scoped>\n",
       "    .dataframe tbody tr th:only-of-type {\n",
       "        vertical-align: middle;\n",
       "    }\n",
       "\n",
       "    .dataframe tbody tr th {\n",
       "        vertical-align: top;\n",
       "    }\n",
       "\n",
       "    .dataframe thead th {\n",
       "        text-align: right;\n",
       "    }\n",
       "</style>\n",
       "<table border=\"1\" class=\"dataframe\">\n",
       "  <thead>\n",
       "    <tr style=\"text-align: right;\">\n",
       "      <th></th>\n",
       "      <th>ROUTE_ID</th>\n",
       "      <th>ROUTE_NM</th>\n",
       "      <th>ROUTE_TP</th>\n",
       "      <th>ST_STA_ID</th>\n",
       "      <th>ST_STA_NM</th>\n",
       "      <th>ST_STA_NO</th>\n",
       "      <th>ED_STA_ID</th>\n",
       "      <th>ED_STA_NM</th>\n",
       "      <th>ED_STA_NO</th>\n",
       "      <th>REGION_NAME</th>\n",
       "      <th>DISTRICT_CD</th>\n",
       "    </tr>\n",
       "  </thead>\n",
       "  <tbody>\n",
       "    <tr>\n",
       "      <td>0</td>\n",
       "      <td>207000016</td>\n",
       "      <td>1</td>\n",
       "      <td>13</td>\n",
       "      <td>207000616</td>\n",
       "      <td>현대힐스테이트아파트</td>\n",
       "      <td>08582</td>\n",
       "      <td>222000933</td>\n",
       "      <td>청학주공5단지</td>\n",
       "      <td>23027</td>\n",
       "      <td>남양주,의정부</td>\n",
       "      <td>2</td>\n",
       "    </tr>\n",
       "    <tr>\n",
       "      <td>1</td>\n",
       "      <td>208000007</td>\n",
       "      <td>1</td>\n",
       "      <td>13</td>\n",
       "      <td>226000206</td>\n",
       "      <td>숲속마을3.5단지</td>\n",
       "      <td>27199</td>\n",
       "      <td>116000372</td>\n",
       "      <td>구로디지털단지역환승센터(2번승강장)</td>\n",
       "      <td></td>\n",
       "      <td>서울,안양,의왕</td>\n",
       "      <td>2</td>\n",
       "    </tr>\n",
       "    <tr>\n",
       "      <td>2</td>\n",
       "      <td>213000006</td>\n",
       "      <td>1</td>\n",
       "      <td>13</td>\n",
       "      <td>224000449</td>\n",
       "      <td>거모동</td>\n",
       "      <td>25305</td>\n",
       "      <td>116000609</td>\n",
       "      <td>개봉역</td>\n",
       "      <td>85187</td>\n",
       "      <td>광명,서울,시흥</td>\n",
       "      <td>2</td>\n",
       "    </tr>\n",
       "    <tr>\n",
       "      <td>3</td>\n",
       "      <td>215000025</td>\n",
       "      <td>1</td>\n",
       "      <td>13</td>\n",
       "      <td>215000003</td>\n",
       "      <td>구)버스터미널</td>\n",
       "      <td>16283</td>\n",
       "      <td>215000091</td>\n",
       "      <td>안말회관</td>\n",
       "      <td>16118</td>\n",
       "      <td>동두천</td>\n",
       "      <td>2</td>\n",
       "    </tr>\n",
       "    <tr>\n",
       "      <td>4</td>\n",
       "      <td>222000058</td>\n",
       "      <td>1</td>\n",
       "      <td>13</td>\n",
       "      <td>222001119</td>\n",
       "      <td>진벌리차고지</td>\n",
       "      <td>49204</td>\n",
       "      <td>104000183</td>\n",
       "      <td>강변역(A)</td>\n",
       "      <td></td>\n",
       "      <td>구리,남양주,서울</td>\n",
       "      <td>2</td>\n",
       "    </tr>\n",
       "  </tbody>\n",
       "</table>\n",
       "</div>"
      ],
      "text/plain": [
       "    ROUTE_ID ROUTE_NM ROUTE_TP  ST_STA_ID   ST_STA_NM ST_STA_NO  ED_STA_ID  \\\n",
       "0  207000016        1       13  207000616  현대힐스테이트아파트     08582  222000933   \n",
       "1  208000007        1       13  226000206   숲속마을3.5단지     27199  116000372   \n",
       "2  213000006        1       13  224000449         거모동     25305  116000609   \n",
       "3  215000025        1       13  215000003     구)버스터미널     16283  215000091   \n",
       "4  222000058        1       13  222001119      진벌리차고지     49204  104000183   \n",
       "\n",
       "             ED_STA_NM ED_STA_NO REGION_NAME DISTRICT_CD  \n",
       "0              청학주공5단지     23027     남양주,의정부           2  \n",
       "1  구로디지털단지역환승센터(2번승강장)              서울,안양,의왕           2  \n",
       "2                  개봉역     85187    광명,서울,시흥           2  \n",
       "3                 안말회관     16118         동두천           2  \n",
       "4               강변역(A)             구리,남양주,서울           2  "
      ]
     },
     "execution_count": 6,
     "metadata": {},
     "output_type": "execute_result"
    }
   ],
   "source": [
    "temp = np.loadtxt('경기버스기반정보/route20200222.txt', dtype='object', delimiter='^', encoding='utf-8')\n",
    "\n",
    "route = pd.DataFrame(columns=temp[0].split('|'))\n",
    "\n",
    "for i,col in enumerate(route.columns):\n",
    "    route[col] = pd.DataFrame(temp[1:])[0].str.split('|').str[i]\n",
    "\n",
    "# 기점, 종점 정류소명\n",
    "route = route[['ROUTE_ID','ROUTE_NM','ROUTE_TP','ST_STA_ID','ST_STA_NM','ST_STA_NO','ED_STA_ID','ED_STA_NM','ED_STA_NO','REGION_NAME','DISTRICT_CD']]\n",
    "route.sort_values(by=['ROUTE_NM','ROUTE_ID'], ascending=True, inplace=True)\n",
    "route.reset_index(drop=True, inplace=True)\n",
    "route.head()"
   ]
  },
  {
   "cell_type": "code",
   "execution_count": 7,
   "metadata": {},
   "outputs": [
    {
     "data": {
      "text/html": [
       "<div>\n",
       "<style scoped>\n",
       "    .dataframe tbody tr th:only-of-type {\n",
       "        vertical-align: middle;\n",
       "    }\n",
       "\n",
       "    .dataframe tbody tr th {\n",
       "        vertical-align: top;\n",
       "    }\n",
       "\n",
       "    .dataframe thead th {\n",
       "        text-align: right;\n",
       "    }\n",
       "</style>\n",
       "<table border=\"1\" class=\"dataframe\">\n",
       "  <thead>\n",
       "    <tr style=\"text-align: right;\">\n",
       "      <th></th>\n",
       "      <th>ROUTE_ID</th>\n",
       "      <th>STATION_ID</th>\n",
       "      <th>UPDOWN</th>\n",
       "      <th>STA_ORDER</th>\n",
       "      <th>ROUTE_NM</th>\n",
       "      <th>STATION_NM</th>\n",
       "    </tr>\n",
       "  </thead>\n",
       "  <tbody>\n",
       "    <tr>\n",
       "      <td>0</td>\n",
       "      <td>207000016</td>\n",
       "      <td>207000616</td>\n",
       "      <td>정</td>\n",
       "      <td>1.0</td>\n",
       "      <td>1</td>\n",
       "      <td>현대힐스테이트아파트</td>\n",
       "    </tr>\n",
       "    <tr>\n",
       "      <td>1</td>\n",
       "      <td>207000016</td>\n",
       "      <td>207000546</td>\n",
       "      <td>정</td>\n",
       "      <td>2.0</td>\n",
       "      <td>1</td>\n",
       "      <td>의정부법원.검찰청입구</td>\n",
       "    </tr>\n",
       "    <tr>\n",
       "      <td>2</td>\n",
       "      <td>207000016</td>\n",
       "      <td>207000276</td>\n",
       "      <td>정</td>\n",
       "      <td>3.0</td>\n",
       "      <td>1</td>\n",
       "      <td>미2사단앞</td>\n",
       "    </tr>\n",
       "    <tr>\n",
       "      <td>3</td>\n",
       "      <td>207000016</td>\n",
       "      <td>207000275</td>\n",
       "      <td>정</td>\n",
       "      <td>4.0</td>\n",
       "      <td>1</td>\n",
       "      <td>경민대학</td>\n",
       "    </tr>\n",
       "    <tr>\n",
       "      <td>4</td>\n",
       "      <td>207000016</td>\n",
       "      <td>207000274</td>\n",
       "      <td>정</td>\n",
       "      <td>5.0</td>\n",
       "      <td>1</td>\n",
       "      <td>안골</td>\n",
       "    </tr>\n",
       "  </tbody>\n",
       "</table>\n",
       "</div>"
      ],
      "text/plain": [
       "    ROUTE_ID STATION_ID UPDOWN  STA_ORDER ROUTE_NM   STATION_NM\n",
       "0  207000016  207000616      정        1.0        1   현대힐스테이트아파트\n",
       "1  207000016  207000546      정        2.0        1  의정부법원.검찰청입구\n",
       "2  207000016  207000276      정        3.0        1        미2사단앞\n",
       "3  207000016  207000275      정        4.0        1         경민대학\n",
       "4  207000016  207000274      정        5.0        1           안골"
      ]
     },
     "execution_count": 7,
     "metadata": {},
     "output_type": "execute_result"
    }
   ],
   "source": [
    "temp = np.loadtxt('경기버스기반정보/routestation20200222.txt', dtype='object', delimiter='^', encoding='utf-8')\n",
    "\n",
    "routestation = pd.DataFrame(columns=temp[0].split('|'))\n",
    "\n",
    "for i,col in enumerate(routestation.columns):\n",
    "    routestation[col] = pd.DataFrame(temp[1:])[0].str.split('|').str[i]\n",
    "\n",
    "# 노선별 정류장 정보\n",
    "routestation['STA_ORDER'] = routestation['STA_ORDER'].astype('float64')\n",
    "routestation.sort_values(by=['ROUTE_NM','ROUTE_ID','STA_ORDER'], ascending=True, inplace=True)\n",
    "routestation.reset_index(drop=True, inplace=True)\n",
    "routestation.head() "
   ]
  },
  {
   "cell_type": "markdown",
   "metadata": {},
   "source": [
    "### 3. DB 구축"
   ]
  },
  {
   "cell_type": "code",
   "execution_count": 27,
   "metadata": {},
   "outputs": [],
   "source": [
    "import os\n",
    "import cx_Oracle"
   ]
  },
  {
   "cell_type": "code",
   "execution_count": 38,
   "metadata": {},
   "outputs": [],
   "source": [
    "# 연결\n",
    "os.putenv('NLS_LANG','KOREAN_KOREA.KO16MSWIN949')\n",
    "con = cx_Oracle.connect(\"hr/1234@localhost:1521/xe\")\n",
    "cursor = con.cursor()\n",
    "\n",
    "# 테이블 생성\n",
    "cursor.execute(\"create table route (ROUTE_ID varchar2(15),ROUTE_NM varchar2(20),ROUTE_TP varchar2(3),ST_STA_ID varchar2(15),ST_STA_NM varchar2(150),ST_STA_NO varchar2(15),ED_STA_ID varchar2(15),ED_STA_NM varchar2(150),ED_STA_NO varchar2(15),REGION_NAME varchar2(150),DISTRICT_CD varchar2(1))\")\n",
    "cursor.execute(\"create table routestation (ROUTE_ID varchar2(15),STATION_ID varchar2(15),UPDOWN varchar2(5),STA_ORDER varchar2(5),ROUTE_NM varchar2(20),STATION_NM varchar2(150))\")\n",
    "\n",
    "# insert data\n",
    "rows_route = [tuple(x) for x in route.to_records(index=False)]\n",
    "rows_routestation = [tuple(x) for x in routestation.to_records(index=False)]\n",
    "cursor.executemany('insert into route values (:1, :2, :3, :4, :5, :6, :7, :8, :9, :10, :11)', rows_route)\n",
    "cursor.executemany('insert into routestation values (:1, :2, :3, :4, :5, :6)', rows_routestation)\n",
    "\n",
    "# commit\n",
    "con.commit()\n",
    "\n",
    "# 연결 종료\n",
    "con.close()"
   ]
  }
 ],
 "metadata": {
  "kernelspec": {
   "display_name": "Python 3",
   "language": "python",
   "name": "python3"
  },
  "language_info": {
   "codemirror_mode": {
    "name": "ipython",
    "version": 3
   },
   "file_extension": ".py",
   "mimetype": "text/x-python",
   "name": "python",
   "nbconvert_exporter": "python",
   "pygments_lexer": "ipython3",
   "version": "3.7.4"
  }
 },
 "nbformat": 4,
 "nbformat_minor": 2
}
